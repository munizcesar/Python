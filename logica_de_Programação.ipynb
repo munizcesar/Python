{
  "nbformat": 4,
  "nbformat_minor": 0,
  "metadata": {
    "colab": {
      "provenance": [],
      "mount_file_id": "12HrhqHWVOZK1bgvPK2_GQnHOL64l0QDT",
      "authorship_tag": "ABX9TyN+p/TBdVNt8cHFIgQ3vFTs",
      "include_colab_link": true
    },
    "kernelspec": {
      "name": "python3",
      "display_name": "Python 3"
    },
    "language_info": {
      "name": "python"
    }
  },
  "cells": [
    {
      "cell_type": "markdown",
      "metadata": {
        "id": "view-in-github",
        "colab_type": "text"
      },
      "source": [
        "<a href=\"https://colab.research.google.com/github/munizcesar/Python/blob/main/logica_de_Programa%C3%A7%C3%A3o.ipynb\" target=\"_parent\"><img src=\"https://colab.research.google.com/assets/colab-badge.svg\" alt=\"Open In Colab\"/></a>"
      ]
    },
    {
      "cell_type": "code",
      "source": [
        "from random import randint\n",
        "cpu = randint(0, 10)\n",
        "nome = str(input('Como você chama?'))\n",
        "print(f'{nome} sou seu computador... Acabei de pensar em um numero de 0 e 10.')\n",
        "print('Será que você consegue adivinhar qual foi?')\n",
        "acertou = False\n",
        "palpites = 0\n",
        "while not acertou:\n",
        "  jogador = int(input('Qual o seu palpite?'))\n",
        "  palpites += 1\n",
        "  if jogador == cpu:\n",
        "    acertou = True\n",
        "  else:\n",
        "    if jogador < cpu:\n",
        "      print('Mais...')\n",
        "    else:\n",
        "      print('Menos...')\n",
        "print(f'Parabéns {nome} Acertou!')\n",
        "print(f'Você tentou {palpites}x até acertar.')\n"
      ],
      "metadata": {
        "colab": {
          "base_uri": "https://localhost:8080/"
        },
        "id": "XXhdNfv60tcK",
        "outputId": "05afce2a-2bf7-40a5-fdd6-dffc05322797"
      },
      "execution_count": 50,
      "outputs": [
        {
          "output_type": "stream",
          "name": "stdout",
          "text": [
            "Como você chama?césar\n",
            "césar sou seu computador... Acabei de pensar em um numero de 0 e 10.\n",
            "Será que você consegue adivinhar qual foi?\n",
            "Qual o seu palpite?1\n",
            "Mais...\n",
            "Qual o seu palpite?4\n",
            "Menos...\n",
            "Qual o seu palpite?3\n",
            "Parabéns césar Acertou!\n",
            "Você tentou 3x até acertar.\n"
          ]
        }
      ]
    }
  ]
}